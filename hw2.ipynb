{
 "cells": [
  {
   "cell_type": "code",
   "execution_count": 1,
   "id": "c146d81d",
   "metadata": {},
   "outputs": [],
   "source": [
    "last_semester_gradebook = [(\"politics\", 80), (\"latin\", 96), (\"dance\", 97), (\"architecture\", 65)]"
   ]
  },
  {
   "cell_type": "code",
   "execution_count": 2,
   "id": "c54c74ae",
   "metadata": {},
   "outputs": [],
   "source": [
    "subjects = [\"physics\", \"calculus\", \"poetry\", \"history\"]"
   ]
  },
  {
   "cell_type": "code",
   "execution_count": 3,
   "id": "4f571911",
   "metadata": {},
   "outputs": [],
   "source": [
    "grades = [98, 97, 85, 88]"
   ]
  },
  {
   "cell_type": "code",
   "execution_count": 4,
   "id": "f21436b6",
   "metadata": {},
   "outputs": [],
   "source": [
    "subjects.append(\"computer science\")"
   ]
  },
  {
   "cell_type": "code",
   "execution_count": 5,
   "id": "06de831c",
   "metadata": {},
   "outputs": [],
   "source": [
    "grades.append(100)"
   ]
  },
  {
   "cell_type": "code",
   "execution_count": 6,
   "id": "3d6335e4",
   "metadata": {},
   "outputs": [],
   "source": [
    "gradebook = list(zip(subjects, grades))"
   ]
  },
  {
   "cell_type": "code",
   "execution_count": 7,
   "id": "e69d2469",
   "metadata": {},
   "outputs": [],
   "source": [
    "gradebook.append((\"visual arts\", 93))"
   ]
  },
  {
   "cell_type": "code",
   "execution_count": 8,
   "id": "fa2cb861",
   "metadata": {},
   "outputs": [],
   "source": [
    "full_gradebook = last_semester_gradebook + gradebook"
   ]
  },
  {
   "cell_type": "code",
   "execution_count": 9,
   "id": "df97740d",
   "metadata": {},
   "outputs": [
    {
     "name": "stdout",
     "output_type": "stream",
     "text": [
      "[('physics', 98), ('calculus', 97), ('poetry', 85), ('history', 88), ('computer science', 100), ('visual arts', 93)] [('politics', 80), ('latin', 96), ('dance', 97), ('architecture', 65), ('physics', 98), ('calculus', 97), ('poetry', 85), ('history', 88), ('computer science', 100), ('visual arts', 93)]\n"
     ]
    }
   ],
   "source": [
    "print(gradebook, full_gradebook)"
   ]
  }
 ],
 "metadata": {
  "kernelspec": {
   "display_name": "Python 3 (ipykernel)",
   "language": "python",
   "name": "python3"
  },
  "language_info": {
   "codemirror_mode": {
    "name": "ipython",
    "version": 3
   },
   "file_extension": ".py",
   "mimetype": "text/x-python",
   "name": "python",
   "nbconvert_exporter": "python",
   "pygments_lexer": "ipython3",
   "version": "3.9.7"
  }
 },
 "nbformat": 4,
 "nbformat_minor": 5
}
